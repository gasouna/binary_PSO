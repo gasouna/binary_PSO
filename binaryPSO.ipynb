{
 "cells": [
  {
   "cell_type": "code",
   "execution_count": 1,
   "metadata": {},
   "outputs": [],
   "source": [
    "from random import random\n",
    "from math import pi\n",
    "import numpy as np\n",
    "from utils import Utils\n",
    "import seaborn as sns\n",
    "import pandas as pd\n",
    "import os, json\n",
    "from datetime import datetime"
   ]
  },
  {
   "cell_type": "code",
   "execution_count": 2,
   "metadata": {},
   "outputs": [],
   "source": [
    "# Definição da função objetivo - Função Rastrigin\n",
    "def objectiveFunction(X):\n",
    "\n",
    "    A = 10\n",
    "\n",
    "    return A * 2 + sum([(x ** 2 - A * np.cos(2 * pi * x)) for x in X])"
   ]
  },
  {
   "cell_type": "code",
   "execution_count": 11,
   "metadata": {},
   "outputs": [],
   "source": [
    "# Definições do PSO\n",
    "pop_size = 30\n",
    "n_bits = 15\n",
    "epochs = 100\n",
    "x_interval = y_interval = [-10, 10]\n",
    "inertial_weight = [0.4, 0.9]\n",
    "acceleration_factor = [2, 2]\n",
    "\n",
    "# Definições cm_PSO\n",
    "mutation_rate = 0.035\n",
    "population_after_mut = {}\n",
    "\n",
    "# Inicialização das variáveis\n",
    "population = {}\n",
    "fitness = {}\n",
    "pbest = {}\n",
    "gbest = {}\n",
    "pbest_fit = {}\n",
    "gbest_fit = {}\n",
    "\n",
    "# Acesso à funções gerais\n",
    "functions = Utils(n_bits, x_interval[0], x_interval[1])"
   ]
  },
  {
   "cell_type": "code",
   "execution_count": 12,
   "metadata": {},
   "outputs": [],
   "source": [
    "# Inicialização da população\n",
    "\n",
    "velocity = []\n",
    "\n",
    "for i in range(pop_size):\n",
    "\n",
    "    ind_velocity = []\n",
    "\n",
    "    for j in range(n_bits * 2):\n",
    "\n",
    "        ind_velocity.append(random())\n",
    "\n",
    "    velocity.append(ind_velocity)\n",
    "\n",
    "x = functions.selectBit(velocity)\n",
    "\n",
    "# Cálculo do fitness inicial\n",
    "\n",
    "fit = []\n",
    "\n",
    "for individual in x:\n",
    "\n",
    "    solution = [functions.binToDec(individual[0:n_bits]), functions.binToDec(individual[n_bits:])]\n",
    "\n",
    "    fit.append(objectiveFunction(solution))\n",
    "\n",
    "population[0] = x\n",
    "population_after_mut[0] = x\n",
    "fitness[0] = fit\n",
    "pbest[0] = x\n",
    "pbest_fit[0] = fit\n",
    "gbest[0] = x[fit.index(min(fit))]\n",
    "gbest_fit[0] = min(fit)"
   ]
  },
  {
   "cell_type": "code",
   "execution_count": 13,
   "metadata": {},
   "outputs": [],
   "source": [
    "for iter in range(1, epochs + 1):\n",
    "\n",
    "    # Atualiza o peso inercial\n",
    "    w = inertial_weight[1] - ((inertial_weight[1] - inertial_weight[0]) * (iter / epochs))\n",
    "\n",
    "    # Atualiza a velocidade\n",
    "    for i in range(pop_size):\n",
    "\n",
    "        ind_velocity = []\n",
    "\n",
    "        for j in range(n_bits * 2):\n",
    "\n",
    "            ind_velocity.append(\n",
    "                (w * velocity[i][j]) + (acceleration_factor[0] * random() * (int(pbest[iter-1][i][j]) - int(x[i][j]))) + (acceleration_factor[1] * random() * (int(gbest[iter-1][j]) - int(x[i][j]))) \n",
    "            )\n",
    "        \n",
    "        velocity[i] = ind_velocity\n",
    "    \n",
    "    # Atualiza as posições das partículas\n",
    "    x = functions.selectBit(velocity)\n",
    "\n",
    "    # Atualiza o fitness\n",
    "    fit = []\n",
    "    \n",
    "    for individual in x:\n",
    "\n",
    "        solution = [functions.binToDec(individual[0:n_bits]), functions.binToDec(individual[n_bits:])]\n",
    "\n",
    "        fit.append(objectiveFunction(solution))\n",
    "\n",
    "    # Atualiza o Pbest\n",
    "    pbest[iter] = []\n",
    "    pbest_fit[iter] = []\n",
    "    \n",
    "    for i in range(pop_size):\n",
    "\n",
    "        if fit[i] <= pbest_fit[iter-1][i]:\n",
    "\n",
    "            pbest_fit[iter].append(fit[i])\n",
    "            pbest[iter].append(x[i])\n",
    "\n",
    "        else:\n",
    "\n",
    "            pbest_fit[iter].append(pbest_fit[iter-1][i])\n",
    "            pbest[iter].append(pbest[iter-1][i])\n",
    "\n",
    "    # Atualiza o Gbest\n",
    "    if min(fit) <= gbest_fit[iter-1]:\n",
    "\n",
    "        gbest_fit[iter] = min(fit)\n",
    "        gbest[iter] = x[fit.index(min(fit))]\n",
    "    \n",
    "    else:\n",
    "\n",
    "        gbest_fit[iter] = gbest_fit[iter-1]\n",
    "        gbest[iter] = gbest[iter-1]\n",
    "    \n",
    "    # Salva a população da iteração e o fitness gerado\n",
    "    population[iter] = x.copy()\n",
    "    fitness[iter] = fit.copy()\n",
    "\n",
    "    # Aplica a mutação\n",
    "    for i in range(pop_size):\n",
    "\n",
    "        x[i] = functions.mutate(x[i], mutation_rate)\n",
    "\n",
    "    population_after_mut[iter] = x.copy()"
   ]
  },
  {
   "cell_type": "code",
   "execution_count": null,
   "metadata": {},
   "outputs": [],
   "source": [
    "# Dump dos resultados\n",
    "if not os.path.exists(\"./Results\"):\n",
    "    os.mkdir(\"./Results\")\n",
    "\n",
    "os.mkdir(\"./Results/execution_{}\".format(datetime.today().strftime(\"%Y%m%d%H%M\")))\n",
    "os.chdir(\"./Results/execution_{}\".format(datetime.today().strftime(\"%Y%m%d%H%M\")))\n",
    "\n",
    "with open(\"population.json\", \"w\") as f:\n",
    "    json.dump(population, f)\n",
    "\n",
    "with open(\"population_after_mut.json\", \"w\") as f:\n",
    "    json.dump(population_after_mut, f)\n",
    "\n",
    "with open(\"population_fitness.json\", \"w\") as f:\n",
    "    json.dump(fitness, f)\n",
    "\n",
    "with open(\"pbest_particles.json\", \"w\") as f:\n",
    "    json.dump(pbest, f)\n",
    "\n",
    "with open(\"pbest_fitness.json\", \"w\") as f:\n",
    "    json.dump(pbest_fit, f)\n",
    "\n",
    "with open(\"gbest_particles.json\", \"w\") as f:\n",
    "    json.dump(gbest, f)\n",
    "\n",
    "with open(\"gbest_fitness.json\", \"w\") as f:\n",
    "    json.dump(gbest_fit, f)"
   ]
  },
  {
   "cell_type": "code",
   "execution_count": 14,
   "metadata": {},
   "outputs": [
    {
     "data": {
      "text/plain": [
       "<AxesSubplot:>"
      ]
     },
     "execution_count": 14,
     "metadata": {},
     "output_type": "execute_result"
    },
    {
     "data": {
      "image/png": "[encoded data removed]",
      "text/plain": [
       "<Figure size 640x480 with 1 Axes>"
      ]
     },
     "metadata": {},
     "output_type": "display_data"
    }
   ],
   "source": [
    "# Plot da evolução do fitness ao longo da execução \n",
    "fitness_evolution = pd.DataFrame(gbest_fit, index=[0])\n",
    "sns.lineplot(data=fitness_evolution.transpose())\n",
    "    "
   ]
  },
  {
   "cell_type": "code",
   "execution_count": 15,
   "metadata": {},
   "outputs": [
    {
     "data": {
      "text/plain": [
       "<AxesSubplot:xlabel='x', ylabel='y'>"
      ]
     },
     "execution_count": 15,
     "metadata": {},
     "output_type": "execute_result"
    },
    {
     "data": {
      "image/png": "[encoded data removed]",
      "text/plain": [
       "<Figure size 640x480 with 1 Axes>"
      ]
     },
     "metadata": {},
     "output_type": "display_data"
    }
   ],
   "source": [
    "# Plot da posição das partículas em determinada iteração\n",
    "iteration = 1\n",
    "\n",
    "dic = {}\n",
    "df = pd.DataFrame()\n",
    "cm_dic = {}\n",
    "cm_df = pd.DataFrame()\n",
    "\n",
    "for i in population:\n",
    "    dic[\"x\"] = {}\n",
    "    dic[\"y\"] = {}\n",
    "    cm_dic[\"x\"] = {}\n",
    "    cm_dic[\"y\"] = {}\n",
    "\n",
    "    for j in range(n_bits * 2):\n",
    "\n",
    "        dic[\"x\"][j] = functions.binToDec(population[i][j][0:n_bits])\n",
    "        dic[\"y\"][j] = functions.binToDec(population[i][j][n_bits:])\n",
    "        cm_dic[\"x\"][j] = functions.binToDec(population_after_mut[i][j][0:n_bits])\n",
    "        cm_dic[\"y\"][j] = functions.binToDec(population_after_mut[i][j][n_bits:])\n",
    "\n",
    "    tmp = pd.DataFrame(dic)\n",
    "    tmp['iter'] = i\n",
    "    cm_tmp = pd.DataFrame(cm_dic)\n",
    "    cm_tmp[\"iter\"] = i\n",
    "\n",
    "    df = pd.concat([df, tmp])\n",
    "    cm_df = pd.concat([cm_df, cm_tmp])\n",
    "\n",
    "sns.scatterplot(data=cm_df[cm_df['iter'] == iteration], x='x', y='y', label=\"cm_PSO\")\n",
    "sns.scatterplot(data=df[df['iter'] == iteration], x='x', y='y', label=\"PSO\")"
   ]
  }
 ],
 "metadata": {
  "kernelspec": {
   "display_name": "venv",
   "language": "python",
   "name": "python3"
  },
  "language_info": {
   "codemirror_mode": {
    "name": "ipython",
    "version": 3
   },
   "file_extension": ".py",
   "mimetype": "text/x-python",
   "name": "python",
   "nbconvert_exporter": "python",
   "pygments_lexer": "ipython3",
   "version": "3.7.9"
  },
  "orig_nbformat": 4
 },
 "nbformat": 4,
 "nbformat_minor": 2
}
